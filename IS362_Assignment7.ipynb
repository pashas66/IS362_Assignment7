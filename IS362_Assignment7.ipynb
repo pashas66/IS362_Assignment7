{
 "cells": [
  {
   "cell_type": "markdown",
   "metadata": {},
   "source": [
    "# Week 7: Data Aggregation\n",
    "\n",
    "### Choose six recent popular movies. Ask at least five people that you know (friends, family, classmates, imaginary friends) to rate each of these movies that they have seen on a scale of 1 to 5. There should be at least one movie that not everyone has seen!\n",
    "\n",
    "### Take the results (observations) and store them somewhere (like a SQL database, or a .CSV file). Load the information into a pandas dataframe. Your solution should include Python and pandas code that accomplishes the following:\n",
    "\n",
    "### 1. Load the ratings by user information that you collected into a pandas dataframe.\n",
    "### 2. Show the average ratings for each user and each movie.\n",
    "### 3. Create a new pandas dataframe, with normalized ratings for each user. Again, show the average ratings for each user and each movie.\n",
    "### 4. Provide a text-based conclusion: explain what might be advantages and disadvantages of using normalized ratings instead of the actual ratings.\n",
    "### 5. [Extra credit] Create another new pandas dataframe, with standardized ratings for each user. Once again, show the average ratings for each user and each movie.\n",
    "\n",
    "### Here is the .csv file that has the movies, rating scores, and rater names."
   ]
  },
  {
   "cell_type": "code",
   "execution_count": 192,
   "metadata": {},
   "outputs": [
    {
     "data": {
      "text/html": [
       "<div>\n",
       "<style scoped>\n",
       "    .dataframe tbody tr th:only-of-type {\n",
       "        vertical-align: middle;\n",
       "    }\n",
       "\n",
       "    .dataframe tbody tr th {\n",
       "        vertical-align: top;\n",
       "    }\n",
       "\n",
       "    .dataframe thead th {\n",
       "        text-align: right;\n",
       "    }\n",
       "</style>\n",
       "<table border=\"1\" class=\"dataframe\">\n",
       "  <thead>\n",
       "    <tr style=\"text-align: right;\">\n",
       "      <th></th>\n",
       "      <th>Justice League</th>\n",
       "      <th>Tenet</th>\n",
       "      <th>The Invisible Man</th>\n",
       "      <th>Onward</th>\n",
       "      <th>Sonic the Hedgehog</th>\n",
       "      <th>Doolittle</th>\n",
       "    </tr>\n",
       "    <tr>\n",
       "      <th>Rater</th>\n",
       "      <th></th>\n",
       "      <th></th>\n",
       "      <th></th>\n",
       "      <th></th>\n",
       "      <th></th>\n",
       "      <th></th>\n",
       "    </tr>\n",
       "  </thead>\n",
       "  <tbody>\n",
       "    <tr>\n",
       "      <th>Paul</th>\n",
       "      <td>2.0</td>\n",
       "      <td>4</td>\n",
       "      <td>4</td>\n",
       "      <td>3.0</td>\n",
       "      <td>2.0</td>\n",
       "      <td>1.0</td>\n",
       "    </tr>\n",
       "    <tr>\n",
       "      <th>Nick</th>\n",
       "      <td>1.0</td>\n",
       "      <td>4</td>\n",
       "      <td>5</td>\n",
       "      <td>5.0</td>\n",
       "      <td>NaN</td>\n",
       "      <td>1.0</td>\n",
       "    </tr>\n",
       "    <tr>\n",
       "      <th>Maria</th>\n",
       "      <td>1.0</td>\n",
       "      <td>3</td>\n",
       "      <td>3</td>\n",
       "      <td>NaN</td>\n",
       "      <td>2.0</td>\n",
       "      <td>NaN</td>\n",
       "    </tr>\n",
       "    <tr>\n",
       "      <th>Geoff</th>\n",
       "      <td>3.0</td>\n",
       "      <td>2</td>\n",
       "      <td>4</td>\n",
       "      <td>NaN</td>\n",
       "      <td>NaN</td>\n",
       "      <td>2.0</td>\n",
       "    </tr>\n",
       "    <tr>\n",
       "      <th>Tyler</th>\n",
       "      <td>NaN</td>\n",
       "      <td>2</td>\n",
       "      <td>5</td>\n",
       "      <td>NaN</td>\n",
       "      <td>1.0</td>\n",
       "      <td>NaN</td>\n",
       "    </tr>\n",
       "  </tbody>\n",
       "</table>\n",
       "</div>"
      ],
      "text/plain": [
       "       Justice League  Tenet  The Invisible Man  Onward  Sonic the Hedgehog  \\\n",
       "Rater                                                                         \n",
       "Paul              2.0      4                  4     3.0                 2.0   \n",
       "Nick              1.0      4                  5     5.0                 NaN   \n",
       "Maria             1.0      3                  3     NaN                 2.0   \n",
       "Geoff             3.0      2                  4     NaN                 NaN   \n",
       "Tyler             NaN      2                  5     NaN                 1.0   \n",
       "\n",
       "       Doolittle  \n",
       "Rater             \n",
       "Paul         1.0  \n",
       "Nick         1.0  \n",
       "Maria        NaN  \n",
       "Geoff        2.0  \n",
       "Tyler        NaN  "
      ]
     },
     "execution_count": 192,
     "metadata": {},
     "output_type": "execute_result"
    }
   ],
   "source": [
    "# 1. Load the ratings by user information that you collected into a pandas dataframe.\n",
    "#import the libraries pandas and numpy \n",
    "import pandas as pd \n",
    "import numpy as np\n",
    "df = pd.read_csv('data.csv') # Retreiving my data.CSV to read information from file into pandas dataframe\n",
    "df.set_index('Rater', inplace=True)\n",
    "df"
   ]
  },
  {
   "cell_type": "code",
   "execution_count": 194,
   "metadata": {
    "scrolled": true
   },
   "outputs": [
    {
     "data": {
      "text/plain": [
       "Rater\n",
       "Paul     2.67\n",
       "Nick     3.20\n",
       "Maria    2.25\n",
       "Geoff    2.75\n",
       "Tyler    2.67\n",
       "dtype: float64"
      ]
     },
     "execution_count": 194,
     "metadata": {},
     "output_type": "execute_result"
    }
   ],
   "source": [
    "# 2.a. Show the average ratings for each user\n",
    "avg_user_rating = df.mean(axis=1)\n",
    "avg_user_rating.round(2)"
   ]
  },
  {
   "cell_type": "code",
   "execution_count": 193,
   "metadata": {
    "scrolled": true
   },
   "outputs": [
    {
     "data": {
      "text/plain": [
       "Justice League        1.75\n",
       "Tenet                 3.00\n",
       "The Invisible Man     4.20\n",
       "Onward                4.00\n",
       "Sonic the Hedgehog    1.67\n",
       "Doolittle             1.33\n",
       "dtype: float64"
      ]
     },
     "execution_count": 193,
     "metadata": {},
     "output_type": "execute_result"
    }
   ],
   "source": [
    "# 2.b. Show the average ratings for each movie\n",
    "avg_movie_rating = df.mean(axis=0)\n",
    "avg_movie_rating.round(2)"
   ]
  },
  {
   "cell_type": "markdown",
   "metadata": {},
   "source": [
    "## Normalized Ratings:\n",
    "### Database normalization is process used to organize a database into tables and columns. The idea is that a table should be about a specific topic and that only those columns which supports tathat topics are included. Normalization scales all numeric variables in the range 0-1. This is helpful as different users will have different rating scales and gives us more meaningful data when we have the ratings adjusted so how all the users rate things are normalizedOne possible formula is given below:\n",
    "\n",
    "#### x: (x-x.min()) / (x.max() - x.min()))\n",
    "\n",
    "### Using the normalization formula, each movies rating is calculated and the scores are placed in a normalized_data data frame."
   ]
  },
  {
   "cell_type": "code",
   "execution_count": 201,
   "metadata": {
    "scrolled": false
   },
   "outputs": [
    {
     "name": "stdout",
     "output_type": "stream",
     "text": [
      "Justice League [1.  1.  0.5 0.  0. ]\n",
      "Tenet [0.5 1.  0.  0.5 1. ]\n",
      "Invisible Man [0. 1.]\n",
      "Onward [1. 1. 0.]\n",
      "Sonic the Hedgehog [0. 0. 1.]\n",
      "Doolittle [0. 0. 1.]\n"
     ]
    }
   ],
   "source": [
    "\n",
    "# 3. Create a new pandas dataframe, with normalized ratings for each user. Again, show the average ratings for each user and each movie.\n",
    "# Normalized for each movie:\n",
    "\n",
    "# Justice League\n",
    "movie_0 = df.iloc[0:, 1]\n",
    "array_movie_0 = np.array([movie_0])\n",
    "array_movie_0 = array_movie_0[np.logical_not(np.isnan(array_movie_0))]\n",
    "norm_movie_0 = (array_movie_0 - min(array_movie_0)) / (max(array_movie_0) - min(array_movie_0))\n",
    "# Tenet\n",
    "movie_1 = df.iloc[0:, 2]\n",
    "array_movie_1 = np.array([movie_1])\n",
    "array_movie_1 = array_movie_1[np.logical_not(np.isnan(array_movie_1))]\n",
    "norm_movie_1 = (array_movie_1 - min(array_movie_1)) / (max(array_movie_1) - min(array_movie_1))\n",
    "# Invisible Man\n",
    "movie_2 = df.iloc[0:, 3]\n",
    "array_movie_2 = np.array([movie_2])\n",
    "array_movie_2 = array_movie_2[np.logical_not(np.isnan(array_movie_2))]\n",
    "norm_movie_2 = (array_movie_2 - min(array_movie_2)) / (max(array_movie_2) - min(array_movie_2))\n",
    "# Onward\n",
    "movie_3 = df.iloc[0:, 4]\n",
    "array_movie_3 = np.array([movie_3])\n",
    "array_movie_3 = array_movie_3[np.logical_not(np.isnan(array_movie_3))]\n",
    "norm_movie_3 = (array_movie_3 - min(array_movie_3)) / (max(array_movie_3) - min(array_movie_3))\n",
    "# Sonic the Hedgehog\n",
    "movie_4 = df.iloc[0:, 5]\n",
    "array_movie_4 = np.array([movie_4])\n",
    "array_movie_4 = array_movie_4[np.logical_not(np.isnan(array_movie_4))]\n",
    "norm_movie_4 = (array_movie_4 - min(array_movie_4)) / (max(array_movie_4) - min(array_movie_4))\n",
    "# Doolittle\n",
    "movie_5 = df.iloc[0:, 5]\n",
    "array_movie_5 = np.array([movie_5])\n",
    "array_movie_5 = array_movie_5[np.logical_not(np.isnan(array_movie_5))]\n",
    "norm_movie_5 = (array_movie_5 - min(array_movie_5)) / (max(array_movie_5) - min(array_movie_5))\n",
    "\n",
    "\n",
    "print('Justice League', norm_movie_0)\n",
    "print('Tenet', norm_movie_1)\n",
    "print('Invisible Man', norm_movie_2)\n",
    "print('Onward', norm_movie_3)\n",
    "print('Sonic the Hedgehog', norm_movie_4)\n",
    "print('Doolittle', norm_movie_5)"
   ]
  },
  {
   "cell_type": "markdown",
   "metadata": {},
   "source": [
    "### Here we are going to find the mean of the normalized data corresponding to each movie:"
   ]
  },
  {
   "cell_type": "code",
   "execution_count": 207,
   "metadata": {},
   "outputs": [
    {
     "data": {
      "text/html": [
       "<div>\n",
       "<style scoped>\n",
       "    .dataframe tbody tr th:only-of-type {\n",
       "        vertical-align: middle;\n",
       "    }\n",
       "\n",
       "    .dataframe tbody tr th {\n",
       "        vertical-align: top;\n",
       "    }\n",
       "\n",
       "    .dataframe thead th {\n",
       "        text-align: right;\n",
       "    }\n",
       "</style>\n",
       "<table border=\"1\" class=\"dataframe\">\n",
       "  <thead>\n",
       "    <tr style=\"text-align: right;\">\n",
       "      <th></th>\n",
       "      <th>movie</th>\n",
       "      <th>normalized scores</th>\n",
       "      <th>normalized averages</th>\n",
       "    </tr>\n",
       "  </thead>\n",
       "  <tbody>\n",
       "    <tr>\n",
       "      <th>0</th>\n",
       "      <td>Justice League</td>\n",
       "      <td>[1.0, 1.0, 0.5, 0.0, 0.0]</td>\n",
       "      <td>0.500000</td>\n",
       "    </tr>\n",
       "    <tr>\n",
       "      <th>1</th>\n",
       "      <td>Tenet</td>\n",
       "      <td>[0.5, 1.0, 0.0, 0.5, 1.0]</td>\n",
       "      <td>0.600000</td>\n",
       "    </tr>\n",
       "    <tr>\n",
       "      <th>2</th>\n",
       "      <td>Invisible Man</td>\n",
       "      <td>[0.0, 1.0]</td>\n",
       "      <td>0.500000</td>\n",
       "    </tr>\n",
       "    <tr>\n",
       "      <th>3</th>\n",
       "      <td>Onward</td>\n",
       "      <td>[1.0, 1.0, 0.0]</td>\n",
       "      <td>0.666667</td>\n",
       "    </tr>\n",
       "    <tr>\n",
       "      <th>4</th>\n",
       "      <td>Sonic the Hedgehog</td>\n",
       "      <td>[0.0, 0.0, 1.0]</td>\n",
       "      <td>0.333333</td>\n",
       "    </tr>\n",
       "    <tr>\n",
       "      <th>5</th>\n",
       "      <td>Doolittle</td>\n",
       "      <td>[0.0, 0.0, 1.0]</td>\n",
       "      <td>0.333333</td>\n",
       "    </tr>\n",
       "  </tbody>\n",
       "</table>\n",
       "</div>"
      ],
      "text/plain": [
       "                movie          normalized scores  normalized averages\n",
       "0      Justice League  [1.0, 1.0, 0.5, 0.0, 0.0]             0.500000\n",
       "1               Tenet  [0.5, 1.0, 0.0, 0.5, 1.0]             0.600000\n",
       "2       Invisible Man                 [0.0, 1.0]             0.500000\n",
       "3              Onward            [1.0, 1.0, 0.0]             0.666667\n",
       "4  Sonic the Hedgehog            [0.0, 0.0, 1.0]             0.333333\n",
       "5           Doolittle            [0.0, 0.0, 1.0]             0.333333"
      ]
     },
     "execution_count": 207,
     "metadata": {},
     "output_type": "execute_result"
    }
   ],
   "source": [
    "normalized_data =  {'movie': ['Justice League', 'Tenet', 'Invisible Man', 'Onward', 'Sonic the Hedgehog', 'Doolittle'], \n",
    "                    'normalized scores': [norm_movie_0, norm_movie_1, norm_movie_2, norm_movie_3, norm_movie_4,\n",
    "                                          norm_movie_5,],\n",
    "                    'normalized averages': [np.average(norm_movie_0), np.average(norm_movie_1),\n",
    "                                           np.average(norm_movie_2), np.average(norm_movie_3),\n",
    "                                           np.average(norm_movie_4), np.average(norm_movie_5)]}\n",
    "norm_df = pd.DataFrame(normalized_data)\n",
    "norm_df"
   ]
  },
  {
   "cell_type": "code",
   "execution_count": null,
   "metadata": {},
   "outputs": [],
   "source": [
    "# 4. Provide a text-based conclusion: explain what might be advantages and disadvantages of using normalized ratings instead of the actual ratings."
   ]
  },
  {
   "cell_type": "markdown",
   "metadata": {},
   "source": [
    "## Advantages of using normalized ratings: \n",
    "\n",
    "### - You can get more meaningful insight into the data because outliers are no longer skewing it. These outliers could be data that is incorrect, they could represent data that is meaningful. \n",
    "### - You also have the ability to change values of numeric columns in a dataset to a common scale. This helps to view the numeric values across the columns without distorting the numbers or ranges. \n",
    "### - It minimizes redundancy, and ensures that only related data is stored in each table. Normalization, which scales all numeric variables in the range [0,1]. when done correctly, can be plotted on a graph and includes a large variety of information very important when dealing with parameters of different units and .\n",
    "\n",
    "\n",
    "## Disadvantages of using normalized ratings: \n",
    "\n",
    "### - Normalizing  movie ratings creates a difficult way to understand rating pattern. For us, normalized ratings are really strange because they involve decimals, negative, positive numbers, which can be difficult to follow for human interpretation/understanding. If a computer/program is expected to process this information, then using a normalized dataset would be useful. \n",
    "### - Normalized data can be the 'null' values. It creates null values which can become unrealiable data and confusing to the user.\n",
    "### - Indexing doesn't work as efficiently due to joins requirement.\n",
    "\n"
   ]
  },
  {
   "cell_type": "markdown",
   "metadata": {},
   "source": [
    "## Standardized Ratings:\n",
    "### Standardization transforms the data to have zero mean and unit variance. It is a another way data preprocessing method which palys a crucial role in data mining. Standardized data helps center the data around 0 and to scale in respect to standard deviation. for example using the equation below:\n",
    "\n",
    "### standarized value(x) = (value(x) - average) / standard dev\n",
    "\n",
    "### Using the standardization formula, each movies rating is calculated and the scores are placed in a standardized_data data frame."
   ]
  },
  {
   "cell_type": "code",
   "execution_count": 210,
   "metadata": {},
   "outputs": [
    {
     "data": {
      "text/html": [
       "<div>\n",
       "<style scoped>\n",
       "    .dataframe tbody tr th:only-of-type {\n",
       "        vertical-align: middle;\n",
       "    }\n",
       "\n",
       "    .dataframe tbody tr th {\n",
       "        vertical-align: top;\n",
       "    }\n",
       "\n",
       "    .dataframe thead th {\n",
       "        text-align: right;\n",
       "    }\n",
       "</style>\n",
       "<table border=\"1\" class=\"dataframe\">\n",
       "  <thead>\n",
       "    <tr style=\"text-align: right;\">\n",
       "      <th></th>\n",
       "      <th>movie</th>\n",
       "      <th>standardized scores</th>\n",
       "      <th>standardized averages</th>\n",
       "    </tr>\n",
       "  </thead>\n",
       "  <tbody>\n",
       "    <tr>\n",
       "      <th>0</th>\n",
       "      <td>Justice League</td>\n",
       "      <td>[0.6459, 0.6459, -0.3541, -1.3541, -1.3541]</td>\n",
       "      <td>-0.354100</td>\n",
       "    </tr>\n",
       "    <tr>\n",
       "      <th>1</th>\n",
       "      <td>Tenet</td>\n",
       "      <td>[-1.6125, -0.6125, -2.6125, -1.6125, -0.6125]</td>\n",
       "      <td>-1.412500</td>\n",
       "    </tr>\n",
       "    <tr>\n",
       "      <th>2</th>\n",
       "      <td>Invisible Man</td>\n",
       "      <td>[-1.0, 1.0]</td>\n",
       "      <td>0.000000</td>\n",
       "    </tr>\n",
       "    <tr>\n",
       "      <th>3</th>\n",
       "      <td>Onward</td>\n",
       "      <td>[-1.5355, -1.5355, -2.5355]</td>\n",
       "      <td>-1.868833</td>\n",
       "    </tr>\n",
       "    <tr>\n",
       "      <th>4</th>\n",
       "      <td>Sonic the Hedgehog</td>\n",
       "      <td>[-1.8284, -1.8284, -0.8284]</td>\n",
       "      <td>-1.495067</td>\n",
       "    </tr>\n",
       "    <tr>\n",
       "      <th>5</th>\n",
       "      <td>Doolittle</td>\n",
       "      <td>[-1.8284, -1.8284, -0.8284]</td>\n",
       "      <td>-1.495067</td>\n",
       "    </tr>\n",
       "  </tbody>\n",
       "</table>\n",
       "</div>"
      ],
      "text/plain": [
       "                movie                            standardized scores  \\\n",
       "0      Justice League    [0.6459, 0.6459, -0.3541, -1.3541, -1.3541]   \n",
       "1               Tenet  [-1.6125, -0.6125, -2.6125, -1.6125, -0.6125]   \n",
       "2       Invisible Man                                    [-1.0, 1.0]   \n",
       "3              Onward                    [-1.5355, -1.5355, -2.5355]   \n",
       "4  Sonic the Hedgehog                    [-1.8284, -1.8284, -0.8284]   \n",
       "5           Doolittle                    [-1.8284, -1.8284, -0.8284]   \n",
       "\n",
       "   standardized averages  \n",
       "0              -0.354100  \n",
       "1              -1.412500  \n",
       "2               0.000000  \n",
       "3              -1.868833  \n",
       "4              -1.495067  \n",
       "5              -1.495067  "
      ]
     },
     "execution_count": 210,
     "metadata": {},
     "output_type": "execute_result"
    }
   ],
   "source": [
    "# 5. [Extra credit] Create another new pandas dataframe, with standardized ratings for each user. Once again, show the average ratings for each user and each movie.\n",
    "# Standardized for each movie.\n",
    "\n",
    "stan_movie_0 = (array_movie_0 - np.average(array_movie_0) / np.std(array_movie_0)).round(4)\n",
    "stan_movie_1 = (array_movie_1 - np.average(array_movie_1) / np.std(array_movie_1)).round(4)\n",
    "stan_movie_2 = (array_movie_2 - np.average(array_movie_2) / np.std(array_movie_2)).round(4)\n",
    "stan_movie_3 = (array_movie_3 - np.average(array_movie_3) / np.std(array_movie_3)).round(4)\n",
    "stan_movie_4 = (array_movie_4 - np.average(array_movie_4) / np.std(array_movie_4)).round(4)\n",
    "stan_movie_5 = (array_movie_5 - np.average(array_movie_5) / np.std(array_movie_5)).round(4)\n",
    "\n",
    "standardized_data =  {'movie': ['Justice League', 'Tenet', 'Invisible Man', 'Onward', 'Sonic the Hedgehog', 'Doolittle'], \n",
    "                    'standardized scores': [stan_movie_0, stan_movie_1, stan_movie_2, stan_movie_3, stan_movie_4, \n",
    "                                          stan_movie_5],\n",
    "                    'standardized averages': [np.average(stan_movie_0), np.average(stan_movie_1),\n",
    "                                           np.average(stan_movie_2), np.average(stan_movie_3),\n",
    "                                           np.average(stan_movie_4), np.average(stan_movie_5)]}\n",
    "stan_df = pd.DataFrame(standardized_data)\n",
    "stan_df"
   ]
  },
  {
   "cell_type": "markdown",
   "metadata": {},
   "source": [
    "## STANDARDIZED DATA: \n",
    "\n",
    "### In this case, due to the small amount of data and the small variance of variables, using actual data would be sufficient in presenting the data to a user in a comprehensable manner. In cases, where the datasets are much larger, perhaps if the movies were rated 1 to 1000, normalizing the data would make any outliers more relatable to the rest of the data. Standardization could be more applicable if we extended the scope of our assignment to include other films and use the mean and standard deviation of all ratings for comparison. It can achieve better performance if the data has a consistent scale or distribution, helps center the data around 0 and to scale in respect to standard deviation. Standardization would also work better with a larger dataset by demonstrating differences in scores as they drift from the average score of each movie.  "
   ]
  }
 ],
 "metadata": {
  "kernelspec": {
   "display_name": "Python 3",
   "language": "python",
   "name": "python3"
  },
  "language_info": {
   "codemirror_mode": {
    "name": "ipython",
    "version": 3
   },
   "file_extension": ".py",
   "mimetype": "text/x-python",
   "name": "python",
   "nbconvert_exporter": "python",
   "pygments_lexer": "ipython3",
   "version": "3.8.5"
  }
 },
 "nbformat": 4,
 "nbformat_minor": 4
}
